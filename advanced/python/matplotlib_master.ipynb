{
 "metadata": {
  "name": ""
 },
 "nbformat": 3,
 "nbformat_minor": 0,
 "worksheets": [
  {
   "cells": [
    {
     "cell_type": "code",
     "collapsed": false,
     "input": [
      "%matplotlib inline"
     ],
     "language": "python",
     "metadata": {},
     "outputs": [],
     "prompt_number": 1
    },
    {
     "cell_type": "code",
     "collapsed": false,
     "input": [
      "import matplotlib\n",
      "import matplotlib.pyplot as plt"
     ],
     "language": "python",
     "metadata": {},
     "outputs": [],
     "prompt_number": 2
    },
    {
     "cell_type": "code",
     "collapsed": false,
     "input": [
      "import brewer2mpl"
     ],
     "language": "python",
     "metadata": {},
     "outputs": [],
     "prompt_number": 3
    },
    {
     "cell_type": "code",
     "collapsed": false,
     "input": [
      "brewer2mpl.print_all_maps()"
     ],
     "language": "python",
     "metadata": {},
     "outputs": [
      {
       "output_type": "stream",
       "stream": "stdout",
       "text": [
        "Sequential\n",
        "Blues     :  {3, 4, 5, 6, 7, 8, 9}\n",
        "BuGn      :  {3, 4, 5, 6, 7, 8, 9}\n",
        "BuPu      :  {3, 4, 5, 6, 7, 8, 9}\n",
        "GnBu      :  {3, 4, 5, 6, 7, 8, 9}\n",
        "Greens    :  {3, 4, 5, 6, 7, 8, 9}\n",
        "Greys     :  {3, 4, 5, 6, 7, 8, 9}\n",
        "OrRd      :  {3, 4, 5, 6, 7, 8, 9}\n",
        "Oranges   :  {3, 4, 5, 6, 7, 8, 9}\n",
        "PuBu      :  {3, 4, 5, 6, 7, 8, 9}\n",
        "PuBuGn    :  {3, 4, 5, 6, 7, 8, 9}\n",
        "PuRd      :  {3, 4, 5, 6, 7, 8, 9}\n",
        "Purples   :  {3, 4, 5, 6, 7, 8, 9}\n",
        "RdPu      :  {3, 4, 5, 6, 7, 8, 9}\n",
        "Reds      :  {3, 4, 5, 6, 7, 8, 9}\n",
        "YlGn      :  {3, 4, 5, 6, 7, 8, 9}\n",
        "YlGnBu    :  {3, 4, 5, 6, 7, 8, 9}\n",
        "YlOrBr    :  {3, 4, 5, 6, 7, 8, 9}\n",
        "YlOrRd    :  {3, 4, 5, 6, 7, 8, 9}\n",
        "Diverging\n",
        "BrBG      :  {3, 4, 5, 6, 7, 8, 9, 10, 11}\n",
        "PRGn      :  {3, 4, 5, 6, 7, 8, 9, 10, 11}\n",
        "PiYG      :  {3, 4, 5, 6, 7, 8, 9, 10, 11}\n",
        "PuOr      :  {3, 4, 5, 6, 7, 8, 9, 10, 11}\n",
        "RdBu      :  {3, 4, 5, 6, 7, 8, 9, 10, 11}\n",
        "RdGy      :  {3, 4, 5, 6, 7, 8, 9, 10, 11}\n",
        "RdYlBu    :  {3, 4, 5, 6, 7, 8, 9, 10, 11}\n",
        "RdYlGn    :  {3, 4, 5, 6, 7, 8, 9, 10, 11}\n",
        "Spectral  :  {3, 4, 5, 6, 7, 8, 9, 10, 11}\n",
        "Qualitative\n",
        "Accent    :  {3, 4, 5, 6, 7, 8}\n",
        "Dark2     :  {3, 4, 5, 6, 7, 8}\n",
        "Paired    :  {3, 4, 5, 6, 7, 8, 9, 10, 11, 12}\n",
        "Pastel1   :  {3, 4, 5, 6, 7, 8, 9}\n",
        "Pastel2   :  {3, 4, 5, 6, 7, 8}\n",
        "Set1      :  {3, 4, 5, 6, 7, 8, 9}\n",
        "Set2      :  {3, 4, 5, 6, 7, 8}\n",
        "Set3      :  {3, 4, 5, 6, 7, 8, 9, 10, 11, 12}\n"
       ]
      }
     ],
     "prompt_number": 18
    },
    {
     "cell_type": "code",
     "collapsed": false,
     "input": [
      "bmap = brewer2mpl.get_map('Greens', 'sequential', 5)"
     ],
     "language": "python",
     "metadata": {},
     "outputs": [],
     "prompt_number": 29
    },
    {
     "cell_type": "code",
     "collapsed": false,
     "input": [
      "colors = bmap.mpl_colors"
     ],
     "language": "python",
     "metadata": {},
     "outputs": [],
     "prompt_number": 30
    },
    {
     "cell_type": "code",
     "collapsed": false,
     "input": [
      "plt.plot([0,1,2,3,4], [1,2,1,2,1], marker = 'o', c=colors)"
     ],
     "language": "python",
     "metadata": {},
     "outputs": [
      {
       "metadata": {},
       "output_type": "pyout",
       "prompt_number": 21,
       "text": [
        "[<matplotlib.lines.Line2D at 0x10ba3e550>]"
       ]
      },
      {
       "metadata": {},
       "output_type": "display_data",
       "text": [
        "<matplotlib.figure.Figure at 0x10b326890>"
       ]
      }
     ],
     "prompt_number": 21
    },
    {
     "cell_type": "code",
     "collapsed": false,
     "input": [
      "plt.scatter([0,1,2,3,4], [1,2,1,2,1], s=150, marker = 'o', c=colors)"
     ],
     "language": "python",
     "metadata": {},
     "outputs": [
      {
       "metadata": {},
       "output_type": "pyout",
       "prompt_number": 31,
       "text": [
        "<matplotlib.collections.PathCollection at 0x10c113d10>"
       ]
      },
      {
       "metadata": {},
       "output_type": "display_data",
       "png": "[encoded data removed]",
       "text": [
        "<matplotlib.figure.Figure at 0x10ba6e490>"
       ]
      }
     ],
     "prompt_number": 31
    },
    {
     "cell_type": "code",
     "collapsed": false,
     "input": [
      "plt.scatter?"
     ],
     "language": "python",
     "metadata": {},
     "outputs": [],
     "prompt_number": 13
    },
    {
     "cell_type": "code",
     "collapsed": false,
     "input": [
      "matplotlib.backends?"
     ],
     "language": "python",
     "metadata": {},
     "outputs": [],
     "prompt_number": 9
    },
    {
     "cell_type": "code",
     "collapsed": false,
     "input": [
      "%pylab"
     ],
     "language": "python",
     "metadata": {},
     "outputs": [
      {
       "output_type": "stream",
       "stream": "stdout",
       "text": [
        "Using matplotlib backend: agg\n",
        "Populating the interactive namespace from numpy and matplotlib\n"
       ]
      }
     ],
     "prompt_number": 3
    },
    {
     "cell_type": "markdown",
     "metadata": {},
     "source": [
      "###The most basic plot you can make"
     ]
    },
    {
     "cell_type": "code",
     "collapsed": false,
     "input": [
      "import numpy as np\n",
      "\n",
      "\n",
      "x = np.arange(10)\n",
      "y = np.sin(x)\n",
      "\n",
      "pyplot.plot(x, y)"
     ],
     "language": "python",
     "metadata": {},
     "outputs": [
      {
       "metadata": {},
       "output_type": "pyout",
       "prompt_number": 7,
       "text": [
        "[<matplotlib.lines.Line2D at 0x1092c5310>]"
       ]
      }
     ],
     "prompt_number": 7
    },
    {
     "cell_type": "markdown",
     "metadata": {},
     "source": [
      "You can modify the linestyle"
     ]
    },
    {
     "cell_type": "code",
     "collapsed": false,
     "input": [
      "pyplot.plot(x, y, linestyle = '--')"
     ],
     "language": "python",
     "metadata": {},
     "outputs": [
      {
       "metadata": {},
       "output_type": "pyout",
       "prompt_number": 5,
       "text": [
        "[<matplotlib.lines.Line2D at 0x10929b0d0>]"
       ]
      }
     ],
     "prompt_number": 5
    },
    {
     "cell_type": "markdown",
     "metadata": {},
     "source": [
      "You can modify the symbol"
     ]
    },
    {
     "cell_type": "code",
     "collapsed": false,
     "input": [
      "pyplot.plot(x, y, marker = 'o')"
     ],
     "language": "python",
     "metadata": {},
     "outputs": [
      {
       "metadata": {},
       "output_type": "pyout",
       "prompt_number": 6,
       "text": [
        "[<matplotlib.lines.Line2D at 0x1092bf910>]"
       ]
      }
     ],
     "prompt_number": 6
    },
    {
     "cell_type": "markdown",
     "metadata": {},
     "source": [
      "You can modify the color"
     ]
    },
    {
     "cell_type": "code",
     "collapsed": false,
     "input": [
      "pyplot.plot(x, y, color = 'salmon')"
     ],
     "language": "python",
     "metadata": {},
     "outputs": [
      {
       "output_type": "pyout",
       "prompt_number": 18,
       "text": [
        "[<matplotlib.lines.Line2D at 0x10b49e690>]"
       ]
      }
     ],
     "prompt_number": 18
    },
    {
     "cell_type": "markdown",
     "metadata": {},
     "source": [
      "Label your plot"
     ]
    },
    {
     "cell_type": "code",
     "collapsed": false,
     "input": [
      "pyplot.xlabel('x')\n",
      "pyplot.ylabel('sin(x)')\n",
      "pyplot.title('Sine curve')"
     ],
     "language": "python",
     "metadata": {},
     "outputs": [
      {
       "output_type": "pyout",
       "prompt_number": 12,
       "text": [
        "<matplotlib.text.Text at 0x1098fec50>"
       ]
      }
     ],
     "prompt_number": 12
    },
    {
     "cell_type": "markdown",
     "metadata": {},
     "source": [
      "###Object oriented plotting"
     ]
    },
    {
     "cell_type": "code",
     "collapsed": false,
     "input": [
      "fig = pyplot.figure()\n",
      "ax = fig.add_subplot(1, 1, 1)\n",
      "ax.plot(x, y, marker = 's', linestyle = ':', color = 'lime')\n",
      "ax.set_xlabel('x')\n",
      "ax.set_ylabel('sin(x)')\n"
     ],
     "language": "python",
     "metadata": {},
     "outputs": [
      {
       "output_type": "pyout",
       "prompt_number": 19,
       "text": [
        "<matplotlib.text.Text at 0x10b4b3310>"
       ]
      }
     ],
     "prompt_number": 19
    },
    {
     "cell_type": "code",
     "collapsed": false,
     "input": [],
     "language": "python",
     "metadata": {},
     "outputs": []
    }
   ],
   "metadata": {}
  }
 ]
}