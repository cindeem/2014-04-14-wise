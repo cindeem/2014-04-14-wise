{
 "metadata": {
  "name": ""
 },
 "nbformat": 3,
 "nbformat_minor": 0,
 "worksheets": [
  {
   "cells": [
    {
     "cell_type": "markdown",
     "metadata": {},
     "source": [
      "##Numpy\n",
      "\n",
      "_prepared by: Cindee Madison    \n",
      "Thanks to: Ariel Rokem, Matt Davis, Justin Kitzes, Katy Huff, Matthew Terry, Scipy Tutorial\n",
      "\n",
      "Additional Resources\n",
      "\n",
      " * http://wiki.scipy.org/Tentative_NumPy_Tutorial\n",
      " * http://docs.scipy.org/doc/numpy/reference/\n",
      " * http://scipy-lectures.github.io/intro/numpy/index.html\n",
      " * http://wiki.scipy.org/NumPy_for_Matlab_Users\n",
      " * http://nbviewer.ipython.org/\n",
      "\n",
      "\n",
      "\n",
      "NumPy is a Python package implementing efficient collections of specific types of data (generally numerical), similar to the standard array\n",
      "module (but with many more features). NumPy arrays differ from lists and tuples in that the data is <font color='red'>contiguous in memory</font>. A Python **list**, \n",
      "```[0, 1, 2]```, in contrast, is actually an <font color='red'>array of pointers</font> to Python objects representing each number. This allows NumPy arrays to be\n",
      "considerably faster for numerical operations than Python lists/tuples.\n",
      "\n",
      "**Numpy** provides\n",
      "\n",
      "extension package to Python for multi-dimensional arrays\n",
      "\n",
      "  * closer to hardware (efficiency)\n",
      "\n",
      "  * designed for scientific computation (convenience)\n",
      "\n",
      "  * Also known as array oriented computing\n",
      "  \n",
      "The **Numpy** Library contains functions and things\n",
      "\n",
      "```python\n",
      "    np.sqrt(64)   #this is a function\n",
      "    np.pi        #this is variable, not a function\n",
      "    np.sin( np.pi ) #a variable passed to a function\n",
      "```\n",
      "\n"
     ]
    },
    {
     "cell_type": "code",
     "collapsed": true,
     "input": [
      "# import library, standard convention\n",
      "import numpy as np"
     ],
     "language": "python",
     "metadata": {},
     "outputs": []
    },
    {
     "cell_type": "code",
     "collapsed": true,
     "input": [
      "# To see what's in a package, type the name, a period, then hit tab\n",
      "#np?\n",
      "#np."
     ],
     "language": "python",
     "metadata": {},
     "outputs": []
    },
    {
     "cell_type": "code",
     "collapsed": false,
     "input": [
      "# Some examples of numpy functions and \"things\":\n",
      "print(np.sqrt(4))\n",
      "print(np.pi)  # Not a function, just a variable\n",
      "print(np.sin(np.pi)) # A function on a variable :) "
     ],
     "language": "python",
     "metadata": {},
     "outputs": []
    },
    {
     "cell_type": "markdown",
     "metadata": {},
     "source": [
      "### Numpy arrays (ndarrays)\n",
      "\n",
      "Creating a NumPy array is as simple as passing a sequence to numpy.array:\n",
      "    \n",
      "Numpy arrays are collections of things, all of which must be the same type, that work\n",
      "similarly to lists (as we've described them so far). The most important are:\n",
      "\n",
      "1. You can easily perform elementwise operations (and matrix algebra) on arrays\n",
      "1. Arrays can be n-dimensional\n",
      "1. Arrays must be pre-allocated (ie, there is no equivalent to append)\n",
      "\n",
      "Arrays can be created from existing collections such as lists, or instantiated \"from scratch\" in a \n",
      "few useful ways."
     ]
    },
    {
     "cell_type": "code",
     "collapsed": false,
     "input": [
      "arr1 = np.array([1, 2.3, 4])   \n",
      "print(type(arr1))\n",
      "print(arr1.dtype)"
     ],
     "language": "python",
     "metadata": {},
     "outputs": []
    },
    {
     "cell_type": "markdown",
     "metadata": {},
     "source": [
      "You can also explicitly specify the data-type if the automatically-chosen one would be unsuitable."
     ]
    },
    {
     "cell_type": "code",
     "collapsed": false,
     "input": [
      "arr2 = np.array([1, 2.3, 4], dtype=int)   \n",
      "print(type(arr2))\n",
      "print(arr2.dtype)"
     ],
     "language": "python",
     "metadata": {},
     "outputs": []
    },
    {
     "cell_type": "markdown",
     "metadata": {},
     "source": [
      "As you might expect, creating a NumPy array this way can be slow, since it must manually convert each element of a list into its equivalent C type (int objects become C ints, etc). There are many other ways to create NumPy arrays, such as\n",
      "\n",
      "* `np.identity` \n",
      "* `np.zeros` \n",
      "* `np.zeros_like`\n",
      "\n",
      "or by manually specifying the dimensions and type of the array with the low-level creation function:"
     ]
    },
    {
     "cell_type": "code",
     "collapsed": false,
     "input": [
      "arr3 = np.ndarray((2, 3, 4), dtype=complex)  # Notice : `ndarray`, not `array`!\n",
      "print(type(arr3))\n",
      "\n",
      "\n",
      "## what are the values in arr3??"
     ],
     "language": "python",
     "metadata": {},
     "outputs": []
    },
    {
     "cell_type": "markdown",
     "metadata": {},
     "source": [
      "Arrays have a `.shape` attribute, which stores the dimensions of the array as a tuple:"
     ]
    },
    {
     "cell_type": "code",
     "collapsed": false,
     "input": [
      "print(arr3.shape)"
     ],
     "language": "python",
     "metadata": {},
     "outputs": []
    },
    {
     "cell_type": "markdown",
     "metadata": {},
     "source": [
      "For many of the examples below, we will be using `np.arange` which, similar to the Python built-in function `range`, returns a NumPy array\n",
      "of integers from 0 to N-1, inclusive. Like `range`, you can also specify a starting value and a step:"
     ]
    },
    {
     "cell_type": "code",
     "collapsed": false,
     "input": [
      "arr4 = np.arange(2, 5)\n",
      "print(arr4)\n",
      "arr5 = np.arange(1, 5, 2)\n",
      "print(arr5)\n",
      "arr6 = np.arange(1, 10, 2)\n",
      "print arr6"
     ],
     "language": "python",
     "metadata": {},
     "outputs": []
    },
    {
     "cell_type": "markdown",
     "metadata": {},
     "source": [
      "### Exercise : Create an Array\n",
      "\n",
      "Create an array with values ranging from 0 to 10, in increments of 0.5. \n",
      "\n",
      "Reminder: get help by typing `np.arange?`, `np.ndarray?`, `np.array?`, etc. "
     ]
    },
    {
     "cell_type": "markdown",
     "metadata": {},
     "source": [
      "## Arithmetic with arrays\n",
      "\n",
      "Since numpy exists to perform efficient numerical operations in Python, arrays have all the usual arithmetic operations available to them. These operations are performed element-wise (i.e. the same operation is performed independently on each element of the array)."
     ]
    },
    {
     "cell_type": "code",
     "collapsed": false,
     "input": [
      "A = np.arange(5)\n",
      "B = np.arange(5, 10)\n",
      "\n",
      "print 'A is ', A\n",
      "print 'B is ', B\n",
      "print (A+B)\n",
      "\n",
      "print(B-A)\n",
      "\n",
      "print(A*B)"
     ],
     "language": "python",
     "metadata": {},
     "outputs": []
    },
    {
     "cell_type": "markdown",
     "metadata": {},
     "source": [
      "## What would happen if A and B did not have the same `shape`?"
     ]
    },
    {
     "cell_type": "code",
     "collapsed": false,
     "input": [
      "A_10 = np.ones(10)\n",
      "B_5 = np.zeros(5)\n",
      "A_10 + B_5"
     ],
     "language": "python",
     "metadata": {},
     "outputs": []
    },
    {
     "cell_type": "markdown",
     "metadata": {},
     "source": [
      "## Arithmetic with scalars:\n",
      "In addition, if one of the arguments is a scalar, that value will be applied to **all** the elements of the array."
     ]
    },
    {
     "cell_type": "code",
     "collapsed": false,
     "input": [
      "A = np.arange(5)\n",
      "print(A+10)\n",
      "print(2*A)\n",
      "print(A**2)"
     ],
     "language": "python",
     "metadata": {},
     "outputs": []
    },
    {
     "cell_type": "markdown",
     "metadata": {},
     "source": [
      "## Linear algebra with arrays\n",
      "You can use arrays as vectors and matrices in linear algebra operations\n",
      "\n",
      "Specifically, you can perform matrix/vector multiplication between arrays, by using the `.dot` method, or the `np.dot` function:"
     ]
    },
    {
     "cell_type": "code",
     "collapsed": false,
     "input": [
      "print A, B\n",
      "print A.dot(B)\n",
      "print np.dot(A, B)"
     ],
     "language": "python",
     "metadata": {},
     "outputs": []
    },
    {
     "cell_type": "markdown",
     "metadata": {},
     "source": [
      "Note: *This is like the '`*`' operator in Matlab*"
     ]
    },
    {
     "cell_type": "markdown",
     "metadata": {},
     "source": [
      "### Exercise : \n",
      "    \n",
      "http://en.wikipedia.org/wiki/Dot_product\n",
      "    \n",
      "1. Given two vectors in 2-space:\n",
      "    \n",
      "    `a = [1,2]`\n",
      "   \n",
      "    `b = [4,5]`\n",
      "\n",
      "   Find the angle between these vectors. \n",
      "1. The rotation matrix of $\\theta$ angle is a matrix with elements: \n",
      "    \n",
      "    [[cos($\\theta$), -sin($\\theta$], \n",
      "                          \n",
      "     [sin($\\theta$, cos($\\theta$)]]\n",
      "    \n",
      "   Create a function that takes two 2D-vectors and creates the rotation matrix between them.\n",
      "1. For the vector `c=[7,8]`, find a vector `d` that has the same rotation as `b` has relative to `a`"
     ]
    },
    {
     "cell_type": "markdown",
     "metadata": {},
     "source": [
      "http://en.wikipedia.org/wiki/Dot_product\n",
      "\n",
      "We can use a dot product to help us find theta $$\\theta$$\n",
      "\n",
      "$$\\mathbf A\\cdot\\mathbf B = \\|\\mathbf A\\|\\,\\|\\mathbf B\\|\\cos\\theta$$\n",
      "\n",
      "\n",
      "$$\\|\\mathbf{p}\\| = \\sqrt{p_1^2+p_2^2+\\cdots +p_n^2} = \\sqrt{\\mathbf{p}\\cdot\\mathbf{p}}$$\n",
      "Where \n",
      "$$\\sqrt{\\mathbf{p}\\cdot\\mathbf{p}}$$\n",
      "is the square root of the dot product\n",
      "\n"
     ]
    },
    {
     "cell_type": "code",
     "collapsed": false,
     "input": [
      "a = np.array([1,2])\n",
      "b = np.array([4,5])\n",
      "\n",
      "\n",
      "def angle_between_vectors(a,b):\n",
      "    \"\"\"\n",
      "    find the angle between two vectors\n",
      "    \"\"\"\n",
      "    norm_a = np.sqrt(a.dot(a))\n",
      "    norm_b = np.sqrt(b.dot(b))\n",
      "    ab_dot = a.dot(b)\n",
      "    theta = np.arccos(ab_dot / (norm_a * norm_b))\n",
      "    return theta\n",
      "\n",
      "theta = angle_between_vectors(a,b)\n",
      "print theta\n"
     ],
     "language": "python",
     "metadata": {},
     "outputs": []
    },
    {
     "cell_type": "code",
     "collapsed": false,
     "input": [
      "## create rotation matrix\n",
      "def rotation_matrix(theta):\n",
      "    \"\"\" create a rotation matrix given theta\"\"\"\n",
      "    rot = np.array([\n",
      "                    [np.cos(theta), -np.sin(theta)],\n",
      "                    [np.sin(theta), np.cos(theta)],\n",
      "                    ])\n",
      "    return rot\n",
      "\n",
      "ab_rot =  rotation_matrix(theta)\n",
      "print ab_rot\n",
      "    "
     ],
     "language": "python",
     "metadata": {},
     "outputs": []
    },
    {
     "cell_type": "code",
     "collapsed": false,
     "input": [
      "## we know the angle between a and b\n",
      "## find a vector rotated by the same amount relative to c = [7,8,9], \n",
      "c = np.array([7,8])\n",
      "new = c.dot(ab_rot)\n",
      "print angle_between_vectors(c,new)\n",
      "\n",
      "## How would you test this?"
     ],
     "language": "python",
     "metadata": {},
     "outputs": []
    },
    {
     "cell_type": "markdown",
     "metadata": {},
     "source": [
      "### Boolean operators work on arrays too, and they return boolean arrays\n",
      "Much like the basic arithmetic operations we discussed above, comparison operations are perfomed element-wise. That is, rather than returning a\n",
      "single boolean, comparison operators compare each element in both arrays pairwise, and return an `array` of booleans (if the sizes of the input\n",
      "arrays are incompatible, the comparison will simply return False). For example:"
     ]
    },
    {
     "cell_type": "code",
     "collapsed": false,
     "input": [
      "arr1 = np.array([1, 2, 3, 4, 5])\n",
      "arr2 = np.array([1, 1, 3, 3, 5])\n",
      "print(arr1 == arr2)\n",
      "c = (arr1 == arr2)\n",
      "print c.dtype"
     ],
     "language": "python",
     "metadata": {},
     "outputs": []
    },
    {
     "cell_type": "markdown",
     "metadata": {},
     "source": [
      "Note: You can use the methods `.any()` and `.all()` or the functions `np.any` and `np.all` to return a single boolean indicating whether any or all values in the array are `True`, respectively.\n"
     ]
    },
    {
     "cell_type": "code",
     "collapsed": false,
     "input": [
      "print(np.all(c))\n",
      "print(c.all())\n",
      "print(c.any())"
     ],
     "language": "python",
     "metadata": {},
     "outputs": []
    },
    {
     "cell_type": "markdown",
     "metadata": {},
     "source": [
      "### Indexing arrays\n",
      "\n",
      "In addition to the usual methods of indexing lists with an integer (or with a series of colon-separated integers for a slice), numpy allows you\n",
      "to index arrays in a wide variety of different ways for more advanced operations.\n",
      "\n",
      "First, the simple way:\n",
      "\n",
      "<font color='red'>Note: python indexes from zero</font>"
     ]
    },
    {
     "cell_type": "code",
     "collapsed": false,
     "input": [
      "a = np.array([1,2,3])\n",
      "print a[0:2]"
     ],
     "language": "python",
     "metadata": {},
     "outputs": []
    },
    {
     "cell_type": "markdown",
     "metadata": {},
     "source": [
      "### What happens if the array has more than one dimension? "
     ]
    },
    {
     "cell_type": "code",
     "collapsed": false,
     "input": [
      "c = np.random.rand(3,3)\n",
      "print(c)\n",
      "print(c[1:3,0:2])\n",
      "c[0,:] = a\n",
      "print(c)"
     ],
     "language": "python",
     "metadata": {},
     "outputs": []
    },
    {
     "cell_type": "markdown",
     "metadata": {},
     "source": [
      "## Exercise\n",
      "We can manipulate the shape of an array as follows: \n",
      "\n",
      "  `A = np.arange(16).reshape(4, 4)`\n",
      "  \n",
      "Or even:\n",
      "\n",
      "  `A = np.reshape(numpy.arange(16), (4, 4))`\n",
      "    \n",
      "Using what we've learned about slicing and indexing,\n",
      "\n",
      "1. Create A, index the array to get the upper-left quarter\n",
      "\n",
      "2. create a function \n",
      "\n",
      "    * that takes an integer as input \n",
      "    * creates a square n-by-n array with integers from `0` to `n**2-1` (like `A`) \n",
      "    * prints just the upper-left quarter of the array\n",
      "\n",
      "For example, for A, the desired output would be: \n",
      "    \n",
      "     array([[2, 3],\n",
      "            [6, 7]])"
     ]
    },
    {
     "cell_type": "code",
     "collapsed": false,
     "input": [
      "# create A and slice to get upper corner\n",
      "A = np.arange(16).reshape(4,4)\n",
      "print A\n",
      "\n",
      "print A[:2,2:]"
     ],
     "language": "python",
     "metadata": {},
     "outputs": []
    },
    {
     "cell_type": "code",
     "collapsed": false,
     "input": [
      "# create code that generates a square array, and outputs upper 4th quarter\n",
      "n = 12\n",
      "def generate_array(n):\n",
      "    \"\"\" generate a n by n array with vlaues from \n",
      "    0 to n*n \"\"\"\n",
      "    out = np.reshape(np.arange(0, n**2), (n,n))\n",
      "    fourth = np.round(n / 4.)\n",
      "    return out[:fourth, fourth*3:]\n",
      "    \n"
     ],
     "language": "python",
     "metadata": {},
     "outputs": []
    },
    {
     "cell_type": "code",
     "collapsed": false,
     "input": [
      "print generate_array(16)\n",
      "                     \n"
     ],
     "language": "python",
     "metadata": {},
     "outputs": []
    },
    {
     "cell_type": "markdown",
     "metadata": {},
     "source": [
      "### Arrays can also be indexed with other arrays\n",
      "\n",
      "Arrays can be indexed with other arrays, using either an array of indices, or an array of booleans of the same length. In the former case, numpy returns a view of the data in the specified indices as a new array. In the latter, numpy returns a view of the array with only the elements where the index array is True. (We'll discuss the difference between views and copies in a moment.) This makes normally-tedious operations like clamping extremely simple.\n",
      "\n",
      "Indexing with an array of indices:\n"
     ]
    },
    {
     "cell_type": "code",
     "collapsed": false,
     "input": [
      "A = np.arange(5, 10)\n",
      "print(A)\n",
      "print(A[[0, 2, 3]])\n",
      "A[[0, 2, 3]] = 0\n",
      "print(A)\n"
     ],
     "language": "python",
     "metadata": {},
     "outputs": []
    },
    {
     "cell_type": "markdown",
     "metadata": {},
     "source": [
      "Indexing with a boolean array:"
     ]
    },
    {
     "cell_type": "code",
     "collapsed": false,
     "input": [
      "random = np.random\n",
      "A = np.array([random.randint(0, 10) for i in range(10)]) # Check out the list comprehension!\n",
      "print(A)\n",
      "A[A>5] = 5\n",
      "print(A)\n"
     ],
     "language": "python",
     "metadata": {},
     "outputs": []
    },
    {
     "cell_type": "markdown",
     "metadata": {},
     "source": [
      "A few more examples:"
     ]
    },
    {
     "cell_type": "code",
     "collapsed": false,
     "input": [
      "b = np.array([4,5,6])\n",
      "print (a)\n",
      "print (b)\n",
      "print (a > 2)\n",
      "print (a[a > 2])\n",
      "print (b[a > 2])\n",
      "b[a == 3] = 77\n",
      "print(b)"
     ],
     "language": "python",
     "metadata": {},
     "outputs": []
    },
    {
     "cell_type": "code",
     "collapsed": false,
     "input": [
      "# There are handy ways to make arrays full of ones and zeros\n",
      "print(np.zeros(5))\n",
      "print np.ones(5)\n",
      "print np.identity(5), '\\n'"
     ],
     "language": "python",
     "metadata": {},
     "outputs": []
    },
    {
     "cell_type": "markdown",
     "metadata": {},
     "source": [
      "## Numpy 'gotchas'\n",
      "\n",
      "### Multiplication and Addition\n",
      "\n",
      "As you may have noticed above, since NumPy arrays are modeled more closely after vectors and matrices, multiplying by a scalar will multiply each element of the array, whereas multiplying a list by a scalar will repeat that list N times."
     ]
    },
    {
     "cell_type": "code",
     "collapsed": false,
     "input": [
      "A = np.arange(5)*2\n",
      "print(A) \n",
      "B = range(5)*2\n",
      "print(B)"
     ],
     "language": "python",
     "metadata": {},
     "outputs": []
    },
    {
     "cell_type": "markdown",
     "metadata": {},
     "source": [
      "Similarly, when adding two numpy arrays together, we get the vector sum back, whereas when adding two lists together, we get the concatenation back."
     ]
    },
    {
     "cell_type": "code",
     "collapsed": false,
     "input": [
      "A = np.arange(5) + np.arange(5)\n",
      "print(A)\n",
      "B =range(5) + range(5)\n",
      "print(B)"
     ],
     "language": "python",
     "metadata": {},
     "outputs": []
    },
    {
     "cell_type": "markdown",
     "metadata": {},
     "source": [
      "### Views vs. Copies\n",
      "\n",
      "In order to be as efficient as possible, numpy uses \"views\" instead of copies wherever possible. That is, numpy arrays derived from another base array generally refer to the ''exact same data'' as the base array. The consequence of this is that modification of these derived arrays will also modify the base array. The result of an array indexed by an array of indices is a ''copy'', but an array indexed by an array of booleans is a ''view''. \n",
      "\n",
      "Specifically, slices of arrays are always views, unlike slices of lists or tuples, which are always copies."
     ]
    },
    {
     "cell_type": "code",
     "collapsed": false,
     "input": [
      "A = np.arange(5)\n",
      "B = A[0:1]\n",
      "B[0] = 42\n",
      "print(A)\n",
      "\n",
      "A = range(5)\n",
      "B = A[0:1]\n",
      "B[0] = 42\n",
      "print(A)\n",
      "\n",
      "    \n",
      "    "
     ],
     "language": "python",
     "metadata": {},
     "outputs": []
    },
    {
     "cell_type": "markdown",
     "metadata": {},
     "source": [
      "### Exercise : Copy a numpy array\n",
      "\n",
      "Figure out how to create a copy of a numpy array. Remember: since numpy slices are views, you can't use the trick you'd use for Python lists,\n",
      "i.e. copy = list[:]."
     ]
    },
    {
     "cell_type": "code",
     "collapsed": false,
     "input": [
      "## create an array of 10 random numbers\n",
      "## np.random.random?\n",
      "myarr = np.random.random((10))\n"
     ],
     "language": "python",
     "metadata": {},
     "outputs": []
    },
    {
     "cell_type": "code",
     "collapsed": false,
     "input": [
      "# create a view and change the first element in the view\n",
      "## what is the value in the original\n",
      "print 'original first element', myarr[0]\n",
      "viewarr = myarr[:]\n",
      "viewarr[0] = 42\n",
      "print 'view', viewarr[0], 'original', myarr[0]\n",
      "copyarr = myarr.copy()\n"
     ],
     "language": "python",
     "metadata": {},
     "outputs": []
    },
    {
     "cell_type": "code",
     "collapsed": false,
     "input": [
      "## now create a copy\n",
      "\n",
      "print 'all values equal',np.all(copyarr == myarr)\n",
      "print 'same object', copyarr is myarr\n",
      "\n",
      "print 'change copy'\n",
      "copyarr[0] = 0\n",
      "\n",
      "print 'copy', copyarr[0], 'orig',myarr[0]\n",
      "\n",
      "print 'all values equal', np.all(copyarr == myarr)\n"
     ],
     "language": "python",
     "metadata": {},
     "outputs": []
    },
    {
     "cell_type": "markdown",
     "metadata": {},
     "source": [
      "## Mathematics with numpy\n",
      "\n",
      "Being designed for scientific computing, numpy also contains a host of common mathematical functions, including linear algebra functions, fast\n",
      "Fourier transforms, and probability/statistics functions. While there isn't space to go over ''all'' of these in detail, we will provide an overview of the most common/essential of these."
     ]
    },
    {
     "cell_type": "markdown",
     "metadata": {},
     "source": [
      "For >2-dimensional arrays, there are some other common matrix operations that can be conducted:"
     ]
    },
    {
     "cell_type": "code",
     "collapsed": false,
     "input": [
      "A = np.arange(16).reshape(4, 4)\n",
      "print(A)\n",
      "print(A.T) # transpose\n",
      "print(A.trace())"
     ],
     "language": "python",
     "metadata": {},
     "outputs": []
    },
    {
     "cell_type": "markdown",
     "metadata": {},
     "source": [
      "There are many more methods like these available with NumPy arrays. Be sure to consult the numpy documentation before writing your own versions!"
     ]
    },
    {
     "cell_type": "markdown",
     "metadata": {},
     "source": [
      "### The  `matrix`  class \n",
      "\n",
      "So far, we've used two-dimensional arrays to represent matrix-like objects. However, numpy provides a specialized class for this. The `matrix` class is almost identical to a two-dimensional numpy array, but has a few changes to the interface to simplify common linear algebraic tasks. These are: \n",
      "\n",
      "    * The * operator is performs matrix multiplication \n",
      "    * The ** operator performs matrix exponentiation \n",
      "    * The property .I (or the method .getI()) returns the matrix inverse \n",
      "    * The property .H (or the method .getH()) returns the conjugate transpose\n",
      "\n",
      "### Example: Solving a System of Linear Equations"
     ]
    },
    {
     "cell_type": "code",
     "collapsed": false,
     "input": [
      "la = np.linalg\n",
      "A = np.matrix([[3, 2, -1], [2, -2, 4], [-1, .5, -1]])\n",
      "B = np.array([1, -2, 0])\n",
      "print(la.solve(A, B))"
     ],
     "language": "python",
     "metadata": {},
     "outputs": []
    },
    {
     "cell_type": "markdown",
     "metadata": {},
     "source": [
      "### Universal functions \n",
      "\n",
      "Universal functions (also called ufuncs) are high-speed, element-wise operations on NumPy arrays. They are, in essence, what allows you to operate on NumPy arrays efficiently. There are a large number of universal functions available covering most of the basic operations that get performed on data, like addition, subtraction, logarithms, and so on. Calling a ufunc is a simple matter:\n",
      "\n",
      "    "
     ]
    },
    {
     "cell_type": "code",
     "collapsed": false,
     "input": [
      "A = np.arange(1,10)\n",
      "print(np.log10(A))"
     ],
     "language": "python",
     "metadata": {},
     "outputs": []
    },
    {
     "cell_type": "markdown",
     "metadata": {},
     "source": [
      "In addition to basic operation like above, ufuncs that take two input arrays and return an output array can be used in more advanced ways.\n",
      "\n",
      "### Exercise : Elementwise Operations\n",
      "\n",
      "Use %timeit magic to check speed\n",
      "\n",
      "Using ufuncs, calculate the log of each element in the following array, compare speed to list operation:\n",
      "  \n",
      "  [8.1, 1.6, 0.9, 4.3, 7.0, 7.3, 4.7, 8.2, 7.2, 3.0,\n",
      "  1.4, 9.8, 5.7, 0.7, 8.7, 4.6, 8.8, 0.9, 4.4, 4.4]\n"
     ]
    },
    {
     "cell_type": "code",
     "collapsed": false,
     "input": [
      "# create list, and array\n",
      "## calculate log on all elements in list (list comprehension)\n",
      "## calculate log on all elements in array\n",
      "## use timeit to compare processing time\n",
      "jnk = [8.1, 1.6, 0.9, 4.3, 7.0, 7.3, 4.7, 8.2, 7.2, 3.0, 1.4, 9.8, 5.7, 0.7, 8.7, 4.6, 8.8, 0.9, 4.4, 4.4]\n",
      "\n",
      "jnk_arr = np.array(jnk)\n",
      "\n",
      "%timeit [np.log(x) for x in jnk]\n",
      "%timeit np.log(jnk_arr)\n"
     ],
     "language": "python",
     "metadata": {},
     "outputs": []
    }
   ],
   "metadata": {}
  }
 ]
}