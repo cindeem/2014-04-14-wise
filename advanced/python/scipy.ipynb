{
 "metadata": {
  "name": ""
 },
 "nbformat": 3,
 "nbformat_minor": 0,
 "worksheets": [
  {
   "cells": [
    {
     "cell_type": "markdown",
     "metadata": {},
     "source": [
      "# Scipy and scikits\n",
      "\n",
      "Things that you may want to use, so you don't need to `reinvent the wheel`.\n",
      "\n",
      "http://docs.scipy.org/doc/scipy/reference/tutorial/\n",
      "\n",
      "* [scipy](http://docs.scipy.org/doc/scipy/reference/)\n",
      "* [scikit-learn](http://scikit-learn.org/)\n",
      "* [scikit-image](http://scikit-image.org/)\n",
      "* [statsmodels](http://statsmodels.sourceforge.net/)"
     ]
    },
    {
     "cell_type": "code",
     "collapsed": false,
     "input": [
      "try: \n",
      "    %matplotlib inline\n",
      "except:\n",
      "    %pylab inline"
     ],
     "language": "python",
     "metadata": {},
     "outputs": [],
     "prompt_number": 20
    },
    {
     "cell_type": "code",
     "collapsed": false,
     "input": [
      "import matplotlib.pyplot as plt"
     ],
     "language": "python",
     "metadata": {},
     "outputs": [],
     "prompt_number": 21
    },
    {
     "cell_type": "markdown",
     "metadata": {},
     "source": [
      "## Scipy\n",
      "\n",
      "scipy.io\n",
      "\n",
      "load and save mat files (from Matlab)\n",
      "\n",
      "scipy.linalg\n",
      "\n",
      "* inverse\n",
      "* determinant\n",
      "* leastsquares\n",
      "* Matrix Decompositions\n",
      " * svd\n",
      " * eigenvectors/eignevalues\n",
      "\n",
      "scipy.sparse\n",
      "\n",
      "scipy.ndimage\n",
      "\n",
      "* multidimensional image processing\n",
      "* correlate, convolution \n",
      "\n",
      "scipy.spatial\n",
      "\n",
      "delaunay triangulation\n",
      "convex hulls\n",
      "vornoi diagrams\n",
      "\n"
     ]
    },
    {
     "cell_type": "code",
     "collapsed": false,
     "input": [
      "#when you import scipy, you do NOT import all the sub packages\n",
      "import scipy\n"
     ],
     "language": "python",
     "metadata": {},
     "outputs": []
    },
    {
     "cell_type": "code",
     "collapsed": false,
     "input": [
      "scipy.linspace(10,11, num=10)"
     ],
     "language": "python",
     "metadata": {},
     "outputs": []
    },
    {
     "cell_type": "code",
     "collapsed": false,
     "input": [
      "# you need to import a subpackage to have access\n",
      "scipy.io\n",
      "\n"
     ],
     "language": "python",
     "metadata": {},
     "outputs": []
    },
    {
     "cell_type": "code",
     "collapsed": false,
     "input": [
      "import scipy.io as io\n",
      "io?"
     ],
     "language": "python",
     "metadata": {},
     "outputs": []
    },
    {
     "cell_type": "code",
     "collapsed": false,
     "input": [
      "## note about namespaces\n",
      "\n",
      "from scipy import linalg"
     ],
     "language": "python",
     "metadata": {},
     "outputs": []
    },
    {
     "cell_type": "code",
     "collapsed": false,
     "input": [
      "from scipy import interpolate\n",
      "interpolate"
     ],
     "language": "python",
     "metadata": {},
     "outputs": []
    },
    {
     "cell_type": "markdown",
     "metadata": {},
     "source": [
      "### B-splines\n",
      "Example showing how to use B-splines in scipy.signal to do interpolation. \n",
      "\n",
      "The input points must be equally spaced to use these routines."
     ]
    },
    {
     "cell_type": "code",
     "collapsed": false,
     "input": [
      "from numpy import r_, sin\n",
      "from scipy.signal import cspline1d, cspline1d_eval\n",
      "\n",
      "x = r_[0:10] #matlab like range creation \n",
      "print x\n",
      "dx = x[1]-x[0]\n",
      "newx = r_[-3:13:0.1]  # notice outside the original domain \n",
      "y = sin(x)\n",
      "## find cubic spline coefficients for a 1D signal\n",
      "cj = cspline1d(y)\n",
      "## Evaluate spline on a new set of points\n",
      "###  dx is old sampling space, x0 was old sample origin\n",
      "newy = cspline1d_eval(cj, newx, dx=dx,x0=x[0])\n",
      "\n",
      "plt.plot(newx, newy, x, y, 'o')\n"
     ],
     "language": "python",
     "metadata": {},
     "outputs": []
    },
    {
     "cell_type": "code",
     "collapsed": false,
     "input": [
      "## example r_\n",
      "r_[1:2:.1]"
     ],
     "language": "python",
     "metadata": {},
     "outputs": []
    },
    {
     "cell_type": "markdown",
     "metadata": {},
     "source": [
      "## Scikit Learn\n",
      "\n",
      "Machine learning in python\n",
      "\n",
      "http://scikit-learn.org/stable/\n",
      "\n",
      "http://scikit-learn.org/stable/auto_examples/index.html"
     ]
    },
    {
     "cell_type": "markdown",
     "metadata": {},
     "source": [
      "###Gaussian Mixture Model Estimation of Density"
     ]
    },
    {
     "cell_type": "code",
     "collapsed": false,
     "input": [
      "import numpy as np\n",
      "from sklearn import mixture\n",
      "\n",
      "n_samples = 300\n",
      "\n",
      "# generate random sample, two components\n",
      "np.random.seed(0)\n",
      "C = np.array([[0., -0.7], [3.5, .7]])\n",
      "X_train = np.r_[np.dot(np.random.randn(n_samples, 2), C),\n",
      "                np.random.randn(n_samples, 2) + np.array([20, 20])]\n",
      "\n",
      "clf = mixture.GMM(n_components=2, covariance_type='full')\n",
      "clf.fit(X_train)\n",
      "\n",
      "x = np.linspace(-20.0, 30.0)\n",
      "y = np.linspace(-20.0, 40.0)\n",
      "X, Y = np.meshgrid(x, y)\n",
      "XX = np.c_[X.ravel(), Y.ravel()]\n",
      "Z = np.log(-clf.score_samples(XX)[0])\n",
      "Z = Z.reshape(X.shape)\n",
      "\n",
      "CS = plt.contour(X, Y, Z)\n",
      "CB = plt.colorbar(CS, shrink=0.8, extend='both')\n",
      "pl.scatter(X_train[:, 0], X_train[:, 1], .8)\n",
      "\n",
      "plt.axis('tight')"
     ],
     "language": "python",
     "metadata": {},
     "outputs": []
    },
    {
     "cell_type": "code",
     "collapsed": false,
     "input": [
      "import numpy as np\n",
      "C = np.array([[0., -0.7], [3.5, .7]])"
     ],
     "language": "python",
     "metadata": {},
     "outputs": [],
     "prompt_number": 15
    },
    {
     "cell_type": "code",
     "collapsed": false,
     "input": [
      "n_samples = 300\n",
      "np.dot(np.random.randn(n_samples, 2), C)\n",
      "\n",
      "np.random.randn(n_samples, 2) + np.array([20, 20])\n",
      "X_train = np.r_[np.dot(np.random.randn(n_samples, 2), C),\n",
      "                np.random.randn(n_samples, 2) + np.array([20, 20])]\n"
     ],
     "language": "python",
     "metadata": {},
     "outputs": [],
     "prompt_number": 22
    },
    {
     "cell_type": "code",
     "collapsed": false,
     "input": [
      "plt.plot(X_train[:,0], X_train[:,1], 'o')\n"
     ],
     "language": "python",
     "metadata": {},
     "outputs": [
      {
       "metadata": {},
       "output_type": "pyout",
       "prompt_number": 27,
       "text": [
        "[<matplotlib.lines.Line2D at 0x10c8c29d0>]"
       ]
      },
      {
       "metadata": {},
       "output_type": "display_data",
       "png": "[encoded data removed]",
       "text": [
        "<matplotlib.figure.Figure at 0x10c80c490>"
       ]
      }
     ],
     "prompt_number": 27
    },
    {
     "cell_type": "markdown",
     "metadata": {},
     "source": [
      "##Scikit image\n",
      "\n",
      "Image processing in Python\n",
      "\n",
      "http://scikit-image.org/\n",
      "\n",
      "\n",
      "### OpenCV (see also)\n",
      "\n",
      "Computer Vision C/C++ with python wrappers\n",
      "\n",
      "http://docs.opencv.org/trunk/doc/py_tutorials/py_tutorials.html\n"
     ]
    },
    {
     "cell_type": "markdown",
     "metadata": {},
     "source": [
      "###Scikit Image\n",
      "\n",
      "Use a Sobel filter on a greyscale image"
     ]
    },
    {
     "cell_type": "code",
     "collapsed": false,
     "input": [
      "##Basic scikit-image example\n",
      "\n",
      "from skimage import data, io, filter\n",
      "import matplotlib.pyplot as plt\n",
      "\n",
      "image = data.coins() # or any NumPy array!\n",
      "edges = filter.sobel(image)\n",
      "plt.figure(figsize=(10,10))\n",
      "plt.subplot(121)\n",
      "io.imshow(image)\n",
      "plt.subplot(122)\n",
      "io.imshow(edges)"
     ],
     "language": "python",
     "metadata": {},
     "outputs": []
    },
    {
     "cell_type": "markdown",
     "metadata": {},
     "source": [
      "##StatsModels\n",
      "http://statsmodels.sourceforge.net/\n",
      "\n",
      "Link to some great notebooks\n",
      "\n",
      "https://github.com/statsmodels/statsmodels/tree/master/examples/notebooks"
     ]
    },
    {
     "cell_type": "code",
     "collapsed": false,
     "input": [
      "#statsmodel simple example\n",
      "\n",
      "#Regression plot and loading datasets from R\n",
      "\n",
      "http://statsmodels.sourceforge.net/devel/examples/notebooks/generated/regression_plots.html\n"
     ],
     "language": "python",
     "metadata": {},
     "outputs": []
    },
    {
     "cell_type": "code",
     "collapsed": false,
     "input": [
      "import numpy as np\n",
      "import pandas as pd\n",
      "import matplotlib.pyplot as plt\n",
      "import statsmodels.api as sm\n",
      "from statsmodels.formula.api import ols"
     ],
     "language": "python",
     "metadata": {},
     "outputs": []
    },
    {
     "cell_type": "markdown",
     "metadata": {},
     "source": [
      "We can use a utility function to load any R dataset available from the great [Rdatasets](http://vincentarelbundock.github.io/Rdatasets/) package."
     ]
    },
    {
     "cell_type": "code",
     "collapsed": false,
     "input": [
      "prestige = sm.datasets.get_rdataset(\"Duncan\", \"car\", cache=True).data\n"
     ],
     "language": "python",
     "metadata": {},
     "outputs": []
    },
    {
     "cell_type": "markdown",
     "metadata": {},
     "source": [
      "Duncan's Occupational Prestige Data\n",
      "-----------------------------------\n",
      "\n",
      "Description\n",
      "~~~~~~~~~~~\n",
      "\n",
      "The **Duncan** data frame has 45 rows and 4 columns. Data on the\n",
      "prestige and other characteristics of 45 U. S. occupations in 1950.\n",
      "\n",
      "\n",
      "Format\n",
      "~~~~~~\n",
      "\n",
      "This data frame contains the following columns:\n",
      "\n",
      "type\n",
      "    Type of occupation. A factor with the following levels:\n",
      "    * prof - professional and managerial\n",
      "    * wc - white-collar\n",
      "    * bc - blue-collar.\n",
      "\n",
      "income\n",
      "    Percent of males in occupation earning $3500 or more in 1950.\n",
      "\n",
      "education\n",
      "    Percent of males in occupation in 1950 who were high-school\n",
      "    graduates.\n",
      "\n",
      "prestige\n",
      "    Percent of raters in NORC study rating occupation as excellent or\n",
      "    good in prestige.\n",
      "\n",
      "Source\n",
      "~~~~~~\n",
      "\n",
      "Duncan, O. D. (1961) A socioeconomic index for all occupations. In\n",
      "Reiss, A. J., Jr. (Ed.) *Occupations and Social Status.* Free Press\n",
      "[Table VI-1].\n",
      "\n",
      "References\n",
      "~~~~~~~~~~\n",
      "\n",
      "Fox, J. (2008) *Applied Regression Analysis and Generalized Linear\n",
      "Models*, Second Edition. Sage.\n",
      "\n",
      "Fox, J. and Weisberg, S. (2011) *An R Companion to Applied Regression*,\n",
      "Second Edition, Sage.\n"
     ]
    },
    {
     "cell_type": "code",
     "collapsed": false,
     "input": [
      "## remember pandas, this should look familiar\n",
      "\n",
      "prestige.head()"
     ],
     "language": "python",
     "metadata": {},
     "outputs": []
    },
    {
     "cell_type": "code",
     "collapsed": false,
     "input": [
      "prestige_model = ols(\"prestige ~ income + education\", data=prestige).fit()"
     ],
     "language": "python",
     "metadata": {},
     "outputs": []
    },
    {
     "cell_type": "code",
     "collapsed": false,
     "input": [
      "print prestige_model.summary()"
     ],
     "language": "python",
     "metadata": {},
     "outputs": []
    },
    {
     "cell_type": "code",
     "collapsed": false,
     "input": [
      "fig, ax = plt.subplots(figsize=(12,8))\n",
      "fig = sm.graphics.influence_plot(prestige_model, ax=ax, criterion=\"cooks\")\n"
     ],
     "language": "python",
     "metadata": {},
     "outputs": []
    },
    {
     "cell_type": "code",
     "collapsed": false,
     "input": [
      "fix, ax = plt.subplots(figsize=(12,14))\n",
      "fig = sm.graphics.plot_partregress(\"prestige\", \"income\", [\"education\"], data=prestige, ax=ax)"
     ],
     "language": "python",
     "metadata": {},
     "outputs": []
    },
    {
     "cell_type": "markdown",
     "metadata": {},
     "source": [
      "http://statsmodels.sourceforge.net/devel/examples/notebooks/generated/regression_plots.html"
     ]
    }
   ],
   "metadata": {}
  }
 ]
}