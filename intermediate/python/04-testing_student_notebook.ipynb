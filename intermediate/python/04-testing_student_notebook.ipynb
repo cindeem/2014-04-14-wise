{
 "metadata": {
  "name": "04-testing_student_notebook"
 },
 "nbformat": 3,
 "nbformat_minor": 0,
 "worksheets": [
  {
   "cells": [
    {
     "cell_type": "code",
     "collapsed": false,
     "input": [],
     "language": "python",
     "metadata": {},
     "outputs": []
    }
   ],
   "metadata": {}
  }
 ]
}